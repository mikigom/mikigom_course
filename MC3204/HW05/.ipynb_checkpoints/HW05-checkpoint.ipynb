{
 "cells": [
  {
   "cell_type": "markdown",
   "metadata": {},
   "source": [
    "# HW05\n",
    "\n",
    "## 20145071 Junghoon Seo"
   ]
  },
  {
   "cell_type": "markdown",
   "metadata": {},
   "source": [
    "<img src='./Screenshot from 2016-11-28 13:31:02.png'>"
   ]
  },
  {
   "cell_type": "code",
   "execution_count": 1,
   "metadata": {
    "collapsed": false
   },
   "outputs": [],
   "source": [
    "import numpy as np"
   ]
  },
  {
   "cell_type": "markdown",
   "metadata": {},
   "source": [
    "## Gaussian elimination"
   ]
  },
  {
   "cell_type": "code",
   "execution_count": 2,
   "metadata": {
    "collapsed": true
   },
   "outputs": [],
   "source": [
    "from __future__ import division\n",
    "\n",
    "def Gaussain(A, b):\n",
    "    for i in range(A.shape[0]-1):\n",
    "        most_coef = A[i+1][i] / A[i][i]\n",
    "        A[i+1] -= most_coef*A[i]\n",
    "        b[i+1] -= most_coef*b[i]\n",
    "\n",
    "        \n",
    "    t_range = list(range(A.shape[0]))\n",
    "    del t_range[0]\n",
    "    t_range.reverse()\n",
    "    \n",
    "    for i in t_range:\n",
    "        most_coef = A[i-1][i] / A[i][i]\n",
    "        A[i-1] -= most_coef*A[i] \n",
    "        b[i-1] -= most_coef*b[i]\n",
    "    \n",
    "    t_range = list(range(A.shape[0]))\n",
    "    t_range.reverse()\n",
    "    for i in t_range:\n",
    "        for j in range(i+1, A.shape[0]):\n",
    "            b[i] -= A[i][j]*b[j]\n",
    "        b[i] /= A[i][i]\n",
    "        A[i][i] = 1\n",
    "        \n",
    "    return b.T"
   ]
  },
  {
   "cell_type": "code",
   "execution_count": 3,
   "metadata": {
    "collapsed": false
   },
   "outputs": [
    {
     "name": "stdout",
     "output_type": "stream",
     "text": [
      "  x1    x2    x3    x4\n",
      "[ 5.5  8.   8.   5. ]\n"
     ]
    }
   ],
   "source": [
    "X = np.array([[2, -1, 1, -1], [0, 1, -1, 1], [0, 0, 1, -1], [0, 0, 0, 1]], dtype='float32')\n",
    "x = np.array([6,5,3,5], dtype='float32')\n",
    "\n",
    "_ = X\n",
    "__ = x\n",
    "\n",
    "print(\"  x1    x2    x3    x4\")\n",
    "print(Gaussain(_, __))"
   ]
  },
  {
   "cell_type": "markdown",
   "metadata": {},
   "source": [
    "<img src='./Screenshot from 2016-11-28 13:31:15.png'>"
   ]
  },
  {
   "cell_type": "markdown",
   "metadata": {},
   "source": [
    "## Jacobi Iterative method"
   ]
  },
  {
   "cell_type": "code",
   "execution_count": 4,
   "metadata": {
    "collapsed": true
   },
   "outputs": [],
   "source": [
    "def Jacobi_Iter(A, b, x, n):\n",
    "    D = np.diag(A)\n",
    "    R = A - np.diagflat(D)\n",
    "    \n",
    "    for i in range(n):\n",
    "        x = (b - np.dot(R, x)) / D\n",
    "    return x"
   ]
  },
  {
   "cell_type": "code",
   "execution_count": 5,
   "metadata": {
    "collapsed": false
   },
   "outputs": [
    {
     "name": "stdout",
     "output_type": "stream",
     "text": [
      "  x1    x2    x3    x4\n",
      "[ 5.5  8.   8.   5. ]\n"
     ]
    }
   ],
   "source": [
    "X = np.array([[2, -1, 1, -1], [0, 1, -1, 1], [0, 0, 1, -1], [0, 0, 0, 1]], dtype='float32')\n",
    "x = np.array([6, 5, 3, 5], dtype='float32')\n",
    "\n",
    "_ = X\n",
    "__ = x\n",
    "\n",
    "print(\"  x1    x2    x3    x4\")\n",
    "print(Jacobi_Iter(_, __, np.array([0., 0., 0., 0.], dtype='float32'), 1000))"
   ]
  },
  {
   "cell_type": "markdown",
   "metadata": {},
   "source": [
    "##  Gauss-Seidel Iterative Technique"
   ]
  },
  {
   "cell_type": "code",
   "execution_count": 6,
   "metadata": {
    "collapsed": true
   },
   "outputs": [],
   "source": [
    "def Gauss_Seidel_Iterative(A, b, x, n):\n",
    "    D = np.diagflat(np.diag(A))\n",
    "    U = np.triu(A, 1)\n",
    "    L = np.tril(A)\n",
    "    \n",
    "    for i in range(n):\n",
    "        x = np.matmul(np.linalg.inv(L), b - np.matmul(U, x))\n",
    "    return x"
   ]
  },
  {
   "cell_type": "code",
   "execution_count": 7,
   "metadata": {
    "collapsed": false
   },
   "outputs": [
    {
     "name": "stdout",
     "output_type": "stream",
     "text": [
      "  x1    x2    x3    x4\n",
      "[ 5.5  8.   8.   5. ]\n"
     ]
    }
   ],
   "source": [
    "X = np.array([[2, -1, 1, -1], [0, 1, -1, 1], [0, 0, 1, -1], [0, 0, 0, 1]], dtype='float32')\n",
    "x = np.array([6, 5, 3, 5], dtype='float32')\n",
    "\n",
    "_ = X\n",
    "__ = x\n",
    "\n",
    "print(\"  x1    x2    x3    x4\")\n",
    "print(Gauss_Seidel_Iterative(_, __, np.array([0., 0., 0., 0.], dtype='float32'), 1000))"
   ]
  },
  {
   "cell_type": "markdown",
   "metadata": {},
   "source": [
    "## Conjugate Gradient method"
   ]
  },
  {
   "cell_type": "code",
   "execution_count": 8,
   "metadata": {
    "collapsed": true
   },
   "outputs": [],
   "source": [
    "import warnings\n",
    "\n",
    "def Conjugate_Graident(A, b, x, n):\n",
    "    r = b - np.matmul(A, x)\n",
    "    p = r\n",
    "    \n",
    "    for i in range(n):\n",
    "        with np.errstate(divide='raise'):\n",
    "            try:\n",
    "                alpha = np.matmul(r.T, r)/np.matmul(np.matmul(p.T, A), p)\n",
    "                x = x + alpha * p\n",
    "                r_new = r - np.matmul(alpha * A, p)\n",
    "                beta = np.matmul(r_new.T, r_new) / np.matmul(r.T, r)\n",
    "                p = r_new + beta * p\n",
    "                r = r_new\n",
    "            except:\n",
    "                break\n",
    "\n",
    "    return x"
   ]
  },
  {
   "cell_type": "code",
   "execution_count": 9,
   "metadata": {
    "collapsed": false
   },
   "outputs": [
    {
     "name": "stdout",
     "output_type": "stream",
     "text": [
      "[ 5.67383099  8.21933079  8.22567368  5.07427406]\n"
     ]
    }
   ],
   "source": [
    "X = np.array([[2, -1, 1, -1], [0, 1, -1, 1], [0, 0, 0, 1], [0, 0, 1, -1]], dtype='float32')\n",
    "x = np.array([6, 5, 5, 3], dtype='float32')\n",
    "\n",
    "_ = X\n",
    "__ = x\n",
    "\n",
    "print(Conjugate_Graident(_, __, np.array([0., 0., 0., 0.], dtype='float32'), 1000))"
   ]
  },
  {
   "cell_type": "markdown",
   "metadata": {},
   "source": [
    "### 1) Gaussian elimination always works out the exact solution.\n",
    "### 2) On the problem condition, Jacobi Iterative method and Gauss-Seidel Iterative Technique works out the exact solution.\n",
    "### 3) On the problem condition, Conjugate Gradient method does not work out the exact solution but the approximated one."
   ]
  }
 ],
 "metadata": {
  "kernelspec": {
   "display_name": "Python 2",
   "language": "python",
   "name": "python2"
  },
  "language_info": {
   "codemirror_mode": {
    "name": "ipython",
    "version": 2
   },
   "file_extension": ".py",
   "mimetype": "text/x-python",
   "name": "python",
   "nbconvert_exporter": "python",
   "pygments_lexer": "ipython2",
   "version": "2.7.6"
  }
 },
 "nbformat": 4,
 "nbformat_minor": 1
}
