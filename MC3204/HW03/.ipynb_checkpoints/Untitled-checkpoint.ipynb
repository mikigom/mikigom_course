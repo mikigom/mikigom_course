{
 "cells": [
  {
   "cell_type": "markdown",
   "metadata": {},
   "source": [
    "# HW01\n",
    "\n",
    "## 20145071 Junghoon Seo"
   ]
  },
  {
   "cell_type": "markdown",
   "metadata": {},
   "source": [
    "<img src='./Screenshot from 2016-10-20 06:22:08.png'>"
   ]
  },
  {
   "cell_type": "markdown",
   "metadata": {},
   "source": [
    "### Let us see the analytic solution.\n",
    "\n",
    "<img src = './qsTqd9y.jpg'>"
   ]
  },
  {
   "cell_type": "code",
   "execution_count": 1,
   "metadata": {
    "collapsed": false
   },
   "outputs": [],
   "source": [
    "from math import exp, sqrt\n",
    "from __future__ import division\n",
    "\n",
    "# Analytics functions\n",
    "\n",
    "def x_1(t):\n",
    "    _ = exp((-1/2)*(1+sqrt(69))*t)\n",
    "    __ = ((sqrt(69)-15)*exp(sqrt(69)*t)+15+sqrt(69))\n",
    "    ___ = 2*sqrt(69)\n",
    "    return -(_ * __ / ___)\n",
    "\n",
    "def x_2(t):\n",
    "    _ = exp((-1/2)*(1+sqrt(69))*t)\n",
    "    __ = ((3*sqrt(69)-19)*exp(sqrt(69)*t)+19+3*sqrt(69))\n",
    "    ___ = 2*sqrt(69)\n",
    "    return _ * __ / ___"
   ]
  },
  {
   "cell_type": "code",
   "execution_count": 2,
   "metadata": {
    "collapsed": false,
    "scrolled": true
   },
   "outputs": [
    {
     "data": {
      "image/png": "[encoded data removed]",
      "text/plain": [
       "<matplotlib.figure.Figure at 0x7f76fde073d0>"
      ]
     },
     "metadata": {},
     "output_type": "display_data"
    }
   ],
   "source": [
    "import matplotlib.pyplot as plt\n",
    "import numpy as np\n",
    "\n",
    "x_axis = np.linspace(0., 1., 100000)\n",
    "\n",
    "plt.plot(x_axis, map(x_1, x_axis))\n",
    "plt.plot(x_axis, map(x_2, x_axis))\n",
    "\n",
    "plt.legend(['x_1(t)', 'x_2(t)'], loc='upper left')\n",
    "\n",
    "plt.show()"
   ]
  },
  {
   "cell_type": "markdown",
   "metadata": {},
   "source": [
    "### Matrix ordinary differnetial equation"
   ]
  },
  {
   "cell_type": "code",
   "execution_count": 3,
   "metadata": {
    "collapsed": true
   },
   "outputs": [],
   "source": [
    "def f_row_1(x1, x2):\n",
    "    return float(x1) + 3*x2\n",
    "\n",
    "def f_row_2(x1, x2):\n",
    "    return 5*float(x1) - 2*x2"
   ]
  },
  {
   "cell_type": "markdown",
   "metadata": {
    "collapsed": true
   },
   "source": [
    "### Implement each numerical analysis function"
   ]
  },
  {
   "cell_type": "markdown",
   "metadata": {},
   "source": [
    "## 1) Euler's method"
   ]
  },
  {
   "cell_type": "code",
   "execution_count": 4,
   "metadata": {
    "collapsed": true
   },
   "outputs": [],
   "source": [
    "# Euler's method\n",
    "def euler(x1_initial_value, x2_initial_value, step_size, solution_interval):\n",
    "    h = step_size\n",
    "    start = solution_interval[0]\n",
    "    end = solution_interval[1]\n",
    "    x1 = np.zeros(int((end-start)/h) + 1)\n",
    "    x2 = np.zeros(int((end-start)/h) + 1)\n",
    "    \n",
    "    x1[0] = x1_initial_value\n",
    "    x2[0] = x2_initial_value\n",
    "    \n",
    "    for i in range(1, int((end-start)/h) + 1):\n",
    "        x1[i] = x1[i-1] + h*(f_row_1(x1[i-1], x2[i-1]))\n",
    "        x2[i] = x2[i-1] + h*(f_row_2(x1[i-1], x2[i-1]))\n",
    "        \n",
    "    return (x1, x2)"
   ]
  },
  {
   "cell_type": "code",
   "execution_count": 5,
   "metadata": {
    "collapsed": false,
    "scrolled": true
   },
   "outputs": [],
   "source": [
    "x_1, x_2 = euler(-1, 3, 1e-5, (0., 1.))"
   ]
  },
  {
   "cell_type": "code",
   "execution_count": 6,
   "metadata": {
    "collapsed": false
   },
   "outputs": [
    {
     "data": {
      "image/png": "[encoded data removed]",
      "text/plain": [
       "<matplotlib.figure.Figure at 0x7f76fdaf4610>"
      ]
     },
     "metadata": {},
     "output_type": "display_data"
    }
   ],
   "source": [
    "import matplotlib.pyplot as plt\n",
    "import numpy as np\n",
    "\n",
    "x_axis = np.linspace(0., 1., 100000)\n",
    "plt.plot(x_axis, x_1, label = \"x_1\") \n",
    "plt.plot(x_axis, x_2, label = \"x_2\")\n",
    "\n",
    "plt.legend(['x_1(t)', 'x_2(t)'], loc='upper left')\n",
    "\n",
    "plt.show()"
   ]
  },
  {
   "cell_type": "markdown",
   "metadata": {},
   "source": [
    "## 2) Taylor series method of order 2"
   ]
  },
  {
   "cell_type": "code",
   "execution_count": 7,
   "metadata": {
    "collapsed": false
   },
   "outputs": [],
   "source": [
    "def f_row_1_prime(x1, x2):\n",
    "    return f_row_1(x1, x2) + 3*f_row_2(x1, x2)\n",
    "\n",
    "def f_row_2_prime(x1, x2):\n",
    "    return 5*f_row_1(x1, x2) - 2*f_row_2(x1, x2)\n",
    "\n",
    "# Taylor series method of order 2\n",
    "def taylor_series(x1_initial_value, x2_initial_value, step_size, solution_interval):\n",
    "    h = step_size\n",
    "    start = solution_interval[0]\n",
    "    end = solution_interval[1]\n",
    "    x1 = np.zeros(int((end-start)/h) + 1)\n",
    "    x2 = np.zeros(int((end-start)/h) + 1)\n",
    "    \n",
    "    x1[0] = x1_initial_value\n",
    "    x2[0] = x2_initial_value\n",
    "    \n",
    "    for i in range(1, int((end-start)/h) + 1):\n",
    "        x1[i] = x1[i-1] + h*(f_row_1(x1[i-1], x2[i-1])) + (h*h/2)*f_row_1_prime(x1[i-1], x2[i-1])\n",
    "        x2[i] = x2[i-1] + h*(f_row_2(x1[i-1], x2[i-1])) + (h*h/2)*f_row_2_prime(x1[i-1], x2[i-1])\n",
    "        \n",
    "    return (x1, x2)"
   ]
  },
  {
   "cell_type": "code",
   "execution_count": 8,
   "metadata": {
    "collapsed": false
   },
   "outputs": [],
   "source": [
    "x_1, x_2 = taylor_series(-1, 3, 1e-5, (0., 1.))"
   ]
  },
  {
   "cell_type": "code",
   "execution_count": 9,
   "metadata": {
    "collapsed": false,
    "scrolled": true
   },
   "outputs": [
    {
     "data": {
      "image/png": "[encoded data removed]",
      "text/plain": [
       "<matplotlib.figure.Figure at 0x7f76fd675410>"
      ]
     },
     "metadata": {},
     "output_type": "display_data"
    }
   ],
   "source": [
    "import matplotlib.pyplot as plt\n",
    "import numpy as np\n",
    "\n",
    "x_axis = np.linspace(0., 1., 100000)\n",
    "plt.plot(x_axis, x_1, label = \"x_1\") \n",
    "plt.plot(x_axis, x_2, label = \"x_2\")\n",
    "\n",
    "plt.legend(['x_1(t)', 'x_2(t)'], loc='upper left')\n",
    "\n",
    "plt.show()"
   ]
  },
  {
   "cell_type": "markdown",
   "metadata": {},
   "source": [
    "## 3) Runge-Kutta Order Four"
   ]
  },
  {
   "cell_type": "code",
   "execution_count": 10,
   "metadata": {
    "collapsed": false
   },
   "outputs": [],
   "source": [
    "# Runge-Kutta Order Four\n",
    "def runge_kutta(x1_initial_value, x2_initial_value, step_size, solution_interval):\n",
    "    h = step_size\n",
    "    start = solution_interval[0]\n",
    "    end = solution_interval[1]\n",
    "    x1 = np.zeros(int((end-start)/h) + 1)\n",
    "    x2 = np.zeros(int((end-start)/h) + 1)\n",
    "    \n",
    "    x1[0] = x1_initial_value\n",
    "    x2[0] = x2_initial_value\n",
    "    \n",
    "    for i in range(1, int((end-start)/h) + 1):\n",
    "        k_1 = h * f_row_1(x1[i-1], x2[i-1])\n",
    "        k_2 = h * f_row_1(x1[i-1] + k_1/2, x2[i-1] + k_1/2)\n",
    "        k_3 = h * f_row_1(x1[i-1] + k_2/2, x2[i-1] + k_2/2)\n",
    "        k_4 = h * f_row_1(x1[i-1] + k_3, x2[i-1] + k_3)\n",
    "        x1[i] = x1[i-1] + (k_1 + 2*k_2 + 2*k_3 + k_4)/6\n",
    "        \n",
    "        k_1 = h * f_row_2(x1[i-1], x2[i-1])\n",
    "        k_2 = h * f_row_2(x1[i-1] + k_1/2, x2[i-1] + k_1/2)\n",
    "        k_3 = h * f_row_2(x1[i-1] + k_2/2, x2[i-1] + k_2/2)\n",
    "        k_4 = h * f_row_2(x1[i-1] + k_3, x2[i-1] + k_3)\n",
    "        x2[i] = x2[i-1] + (k_1 + 2*k_2 + 2*k_3 + k_4)/6\n",
    "        \n",
    "    return (x1, x2)"
   ]
  },
  {
   "cell_type": "code",
   "execution_count": 11,
   "metadata": {
    "collapsed": true
   },
   "outputs": [],
   "source": [
    "x_1, x_2 = runge_kutta(-1, 3, 1e-5, (0., 1.))"
   ]
  },
  {
   "cell_type": "code",
   "execution_count": 12,
   "metadata": {
    "collapsed": false
   },
   "outputs": [
    {
     "data": {
      "image/png": "[encoded data removed]",
      "text/plain": [
       "<matplotlib.figure.Figure at 0x7f76fdaf4fd0>"
      ]
     },
     "metadata": {},
     "output_type": "display_data"
    }
   ],
   "source": [
    "import matplotlib.pyplot as plt\n",
    "import numpy as np\n",
    "\n",
    "x_axis = np.linspace(0., 1., 100000)\n",
    "plt.plot(x_axis, x_1, label = \"x_1\") \n",
    "plt.plot(x_axis, x_2, label = \"x_2\")\n",
    "\n",
    "plt.legend(['x_1(t)', 'x_2(t)'], loc='upper left')\n",
    "\n",
    "plt.show()"
   ]
  },
  {
   "cell_type": "markdown",
   "metadata": {},
   "source": [
    "## 4) Predictor-corrector"
   ]
  },
  {
   "cell_type": "markdown",
   "metadata": {},
   "source": [
    "### For 4), let me introduce fourth-order Adams-Bashforth technique and fourth order Adams-Moulton technique\n",
    "\n",
    "<img src = './Screenshot from 2016-10-20 23:44:46.png'>"
   ]
  },
  {
   "cell_type": "code",
   "execution_count": 13,
   "metadata": {
    "collapsed": false
   },
   "outputs": [],
   "source": [
    "# Runge-Kutta Order Four\n",
    "def predict_correct(x1_initial_value, x2_initial_value, n, solution_interval):\n",
    "    start = solution_interval[0]\n",
    "    end = solution_interval[1]\n",
    "    h = (end - start)/n\n",
    "    axis = np.zeros(n + 1)\n",
    "    axis[0] = 0\n",
    "    axis[1] = h\n",
    "    axis[2] = 2*h\n",
    "    \n",
    "    x1 = np.zeros(n + 1)\n",
    "    x2 = np.zeros(n + 1)    \n",
    "    x1[0] = x1_initial_value\n",
    "    x2[0] = x2_initial_value\n",
    "    x1[1] = x1[0] + h * f_row_1(x1[0], x2[0])\n",
    "    x1[2] = x1[1] + h * f_row_1(x1[1], x2[1])\n",
    "    x2[1] = x2[0] + h * f_row_2(x1[0], x2[0])\n",
    "    \n",
    "    # x1[-1] = x1[-2] = x1[-3] = x2[-1] = x2[-2] = 0\n",
    "    for i in range(1, n + 1):\n",
    "        if axis[i-1] > 1.:\n",
    "            break\n",
    "        x1[i] = x1[i-1] + h/24*(55*f_row_1(x1[i-1], x2[i-1])-59*f_row_1(x1[i-2], x2[i-2])+37*f_row_1(x1[i-3], x2[i-3])-9*f_row_1(x1[i-4], x2[i-4]))\n",
    "        x2[i] = x2[i-1] + h/24*(55*f_row_2(x1[i-1], x2[i-1])-59*f_row_2(x1[i-2], x2[i-2])+37*f_row_2(x1[i-3], x2[i-3])-9*f_row_2(x1[i-4], x2[i-4]))\n",
    "        \n",
    "        diff1 = x1[i] - (x1[i-1] + h/24*(9*f_row_1(x1[i], x2[i])+19*f_row_1(x1[i-1], x2[i-1])-5*f_row_1(x1[i-2], x2[i-2])+f_row_1(x1[i-3], x2[i-3])))\n",
    "        diff2 = x2[i] - (x2[i-1] + h/24*(9*f_row_2(x1[i], x2[i])+19*f_row_2(x1[i-1], x2[i-1])-5*f_row_2(x1[i-2], x2[i-2])+f_row_2(x1[i-3], x2[i-3])))\n",
    "        \n",
    "        # if corrector equation is not satified, reduce the step size.\n",
    "        if (abs(diff1) > 1e-8) or (abs(diff2) > 1e-8):\n",
    "            h = h / 2\n",
    "        else:\n",
    "            h = h * 2\n",
    "        \n",
    "        axis[i+1] = axis[i] + h\n",
    "            \n",
    "    return (axis[:i], x1[:i], x2[:i])"
   ]
  },
  {
   "cell_type": "code",
   "execution_count": 14,
   "metadata": {
    "collapsed": false
   },
   "outputs": [],
   "source": [
    "x_axis, x_1, x_2 = predict_correct(-1, 3, 1000000, (0., 1.))"
   ]
  },
  {
   "cell_type": "code",
   "execution_count": 15,
   "metadata": {
    "collapsed": false
   },
   "outputs": [
    {
     "data": {
      "image/png": "[encoded data removed]",
      "text/plain": [
       "<matplotlib.figure.Figure at 0x7f76fd628890>"
      ]
     },
     "metadata": {},
     "output_type": "display_data"
    }
   ],
   "source": [
    "import matplotlib.pyplot as plt\n",
    "import numpy as np\n",
    "\n",
    "plt.plot(x_axis[1:-2], x_1[1:-2], label = \"x_1\") \n",
    "plt.plot(x_axis[1:-2], x_2[1:-2], label = \"x_2\")\n",
    "\n",
    "plt.legend(['x_1(t)', 'x_2(t)'], loc='upper left')\n",
    "\n",
    "plt.show()"
   ]
  },
  {
   "cell_type": "markdown",
   "metadata": {},
   "source": [
    "### Let's compare error of each method with analytic function, except predict-correct.\n",
    "### (Result of predict-correct method depends on user-arbitary error bound)"
   ]
  },
  {
   "cell_type": "code",
   "execution_count": 16,
   "metadata": {
    "collapsed": true
   },
   "outputs": [],
   "source": [
    "# Analytic function again\n",
    "def x_1(t):\n",
    "    _ = exp((-1/2)*(1+sqrt(69))*t)\n",
    "    __ = ((sqrt(69)-15)*exp(sqrt(69)*t)+15+sqrt(69))\n",
    "    ___ = 2*sqrt(69)\n",
    "    return -(_ * __ / ___)\n",
    "\n",
    "def x_2(t):\n",
    "    _ = exp((-1/2)*(1+sqrt(69))*t)\n",
    "    __ = ((3*sqrt(69)-19)*exp(sqrt(69)*t)+19+3*sqrt(69))\n",
    "    ___ = 2*sqrt(69)\n",
    "    return _ * __ / ___"
   ]
  },
  {
   "cell_type": "code",
   "execution_count": 17,
   "metadata": {
    "collapsed": false
   },
   "outputs": [],
   "source": [
    "x_axis = np.linspace(0., 1., 100000)\n",
    "\n",
    "analytic_x_1, analytic_x_2 = map(x_1, x_axis), map(x_2, x_axis)\n",
    "euler_x_1, euler_x_2 = euler(-1, 3, 1e-5, (0., 1.))\n",
    "taylor_x_1, taylor_x_2 = taylor_series(-1, 3, 1e-5, (0., 1.))\n",
    "rk_x_1, rk_x_2 = runge_kutta(-1, 3, 1e-5, (0., 1.))"
   ]
  },
  {
   "cell_type": "code",
   "execution_count": 18,
   "metadata": {
    "collapsed": true
   },
   "outputs": [],
   "source": [
    "def MSE(f, g):\n",
    "    return np.sum(((f-g)**2))/100000"
   ]
  },
  {
   "cell_type": "code",
   "execution_count": 19,
   "metadata": {
    "collapsed": false
   },
   "outputs": [
    {
     "name": "stdout",
     "output_type": "stream",
     "text": [
      "(2.6844731819942809e-07, 2.1287285425470967e-07)\n",
      "(3.4064712875364461e-08, 2.5919688395538015e-08)\n",
      "(1.8984002441074448e-08, 1.9599135646715372e-08)\n"
     ]
    }
   ],
   "source": [
    "print(MSE(analytic_x_1, euler_x_1), MSE(analytic_x_2, euler_x_2))\n",
    "print(MSE(analytic_x_1, taylor_x_1), MSE(analytic_x_2, taylor_x_2))\n",
    "print(MSE(analytic_x_1, rk_x_1), MSE(analytic_x_2, rk_x_2))"
   ]
  },
  {
   "cell_type": "markdown",
   "metadata": {},
   "source": [
    "### As known, error bound is the following:\n",
    "## Runge-Kutta method > Taylor series method > Euler method"
   ]
  }
 ],
 "metadata": {
  "kernelspec": {
   "display_name": "Python 2",
   "language": "python",
   "name": "python2"
  },
  "language_info": {
   "codemirror_mode": {
    "name": "ipython",
    "version": 2
   },
   "file_extension": ".py",
   "mimetype": "text/x-python",
   "name": "python",
   "nbconvert_exporter": "python",
   "pygments_lexer": "ipython2",
   "version": "2.7.6"
  }
 },
 "nbformat": 4,
 "nbformat_minor": 1
}
