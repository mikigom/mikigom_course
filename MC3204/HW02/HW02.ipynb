{
 "cells": [
  {
   "cell_type": "markdown",
   "metadata": {},
   "source": [
    "# Homework 2\n",
    "\n",
    "#### 20145071, Junghoon Seo\n",
    "\n",
    "#### All codes are writen in Julia 0.5.0."
   ]
  },
  {
   "cell_type": "markdown",
   "metadata": {},
   "source": [
    "## Homework 2-1\n",
    "<img src=\"./2-1.png\">"
   ]
  },
  {
   "cell_type": "markdown",
   "metadata": {},
   "source": [
    "#### Let me start with data type declaration."
   ]
  },
  {
   "cell_type": "code",
   "execution_count": 1,
   "metadata": {
    "collapsed": false
   },
   "outputs": [
    {
     "data": {
      "text/plain": [
       "3-element Array{Point,1}:\n",
       " Point(0.1,-0.29005) \n",
       " Point(0.2,-0.560797)\n",
       " Point(0.3,-0.81402) "
      ]
     },
     "execution_count": 1,
     "metadata": {},
     "output_type": "execute_result"
    }
   ],
   "source": [
    "type Point\n",
    "    x::Float64\n",
    "    y::Float64\n",
    "end\n",
    "\n",
    "data = [Point(0.1, -0.29004996), Point(0.2, -0.56079734), Point(0.3, -0.81401972)]"
   ]
  },
  {
   "cell_type": "markdown",
   "metadata": {},
   "source": [
    "#### Free cubic spline method by linear algebra approach\n",
    "<img src=\"./NumberedEquation1.gif\">\n",
    "#### For detain, please see _Bartels et al. 1998, pp. 12-13_"
   ]
  },
  {
   "cell_type": "code",
   "execution_count": 2,
   "metadata": {
    "collapsed": false
   },
   "outputs": [
    {
     "data": {
      "text/plain": [
       "Compute_D_vector (generic function with 1 method)"
      ]
     },
     "execution_count": 2,
     "metadata": {},
     "output_type": "execute_result"
    }
   ],
   "source": [
    "# Compute D0, D1, ..., Dn\n",
    "function Compute_D_vector(points::Array)\n",
    "    n = length(points)\n",
    "    \n",
    "    tridiagonal = zeros(Float64, (n, n))\n",
    "    tridiagonal[1, 1], tridiagonal[1, 2] = 2/(points[2].x-points[1].x), 1/(points[2].x-points[1].x)\n",
    "    tridiagonal[n, n-1], tridiagonal[n, n] = 1/(points[n].x-points[n-1].x), 2/(points[n].x-points[n-1].x)\n",
    "    \n",
    "    for i = 2 : n-1\n",
    "        tridiagonal[i, i-1], tridiagonal[i, i+1] = 1/(points[i].x-points[i-1].x), 1/(points[i+1].x-points[i].x)\n",
    "        tridiagonal[i, i] = 2*(1/(points[i].x-points[i-1].x) + 1/(points[i+1].x-points[i].x))\n",
    "    end\n",
    "    \n",
    "    y_vector = zeros(Float64, (n, 1))\n",
    "    y_vector[1] = 3*((points[2].y-points[1].y)/(points[2].x-points[1].x)^2)\n",
    "    y_vector[n] = 3*((points[n].y-points[n-1].y)/(points[n].x-points[n-1].x)^2)\n",
    "    for i = 2 : n-1\n",
    "        y_vector[i] = 3*((points[i+1].y-points[i].y)/(points[i+1].x-points[i].x)^2 + (points[i].y-points[i-1].y)/(points[i].x-points[i-1].x)^2)\n",
    "    end\n",
    "    \n",
    "    return (inv(tridiagonal)*y_vector)[1:end,1]\n",
    "end"
   ]
  },
  {
   "cell_type": "code",
   "execution_count": 3,
   "metadata": {
    "collapsed": false,
    "scrolled": true
   },
   "outputs": [
    {
     "data": {
      "text/plain": [
       "3-element Array{Float64,1}:\n",
       " -2.75129\n",
       " -2.61985\n",
       " -2.48841"
      ]
     },
     "execution_count": 3,
     "metadata": {},
     "output_type": "execute_result"
    }
   ],
   "source": [
    "D_v = Compute_D_vector(data)"
   ]
  },
  {
   "cell_type": "code",
   "execution_count": 4,
   "metadata": {
    "collapsed": false
   },
   "outputs": [
    {
     "data": {
      "text/plain": [
       "Compute_cubic_spline (generic function with 1 method)"
      ]
     },
     "execution_count": 4,
     "metadata": {},
     "output_type": "execute_result"
    }
   ],
   "source": [
    "function Compute_cubic_spline(x_::Float64, points::Array, D_v::Array)\n",
    "    n = length(points)\n",
    "    x_arr = Vector(n)\n",
    "    for i = 1 : n\n",
    "        x_arr[i] = points[i].x\n",
    "    end\n",
    "    # Which spline is x_ included?\n",
    "    i = findfirst(x -> x > x_, x_arr) - 1\n",
    "    \n",
    "    # Exception for upper boundary\n",
    "    if(x_ == x_arr[end])\n",
    "        return points[end].y\n",
    "    end\n",
    "    \n",
    "    a = D_v[i]*(points[i+1].x-points[i].x) - (points[i+1].y-points[i].y)\n",
    "    b = -D_v[i+1]*(points[i+1].x-points[i].x) + (points[i+1].y-points[i].y)\n",
    "    t = (x_ - x_arr[i])/(x_arr[i+1] - x_arr[i])\n",
    "    \n",
    "    return (1-t)*points[i].y + t*points[i+1].y + t*(1-t)*(a*(1-t) + b*t)\n",
    "end"
   ]
  },
  {
   "cell_type": "code",
   "execution_count": 5,
   "metadata": {
    "collapsed": false
   },
   "outputs": [
    {
     "data": {
      "image/png": "[encoded data removed]",
      "text/plain": [
       "PyPlot.Figure(PyObject <matplotlib.figure.Figure object at 0x7f56bc494a90>)"
      ]
     },
     "metadata": {},
     "output_type": "display_data"
    },
    {
     "data": {
      "text/plain": [
       "1-element Array{Any,1}:\n",
       " PyObject <matplotlib.lines.Line2D object at 0x7f56a6addc10>"
      ]
     },
     "execution_count": 5,
     "metadata": {},
     "output_type": "execute_result"
    }
   ],
   "source": [
    "using PyPlot\n",
    "x = linspace(data[1].x, data[end].x, 1000)\n",
    "y = Vector(1000)\n",
    "for i = 1 : 1000\n",
    "    y[i] = Compute_cubic_spline(x[i], data, D_v)\n",
    "end\n",
    "\n",
    "plot(x, y, color=\"red\", linewidth=1.0)"
   ]
  },
  {
   "cell_type": "markdown",
   "metadata": {},
   "source": [
    "#### It looks like just a line, not a cubic spline.\n",
    "\n",
    "#### How about (-1,0.5), (0,0), (3,3)?"
   ]
  },
  {
   "cell_type": "code",
   "execution_count": 6,
   "metadata": {
    "collapsed": false
   },
   "outputs": [
    {
     "data": {
      "image/png": "[encoded data removed]",
      "text/plain": [
       "PyPlot.Figure(PyObject <matplotlib.figure.Figure object at 0x7f56a6a38510>)"
      ]
     },
     "metadata": {},
     "output_type": "display_data"
    },
    {
     "data": {
      "text/plain": [
       "1-element Array{Any,1}:\n",
       " PyObject <matplotlib.lines.Line2D object at 0x7f56a6a26350>"
      ]
     },
     "execution_count": 6,
     "metadata": {},
     "output_type": "execute_result"
    }
   ],
   "source": [
    "data = [Point(-1, 0.5), Point(0, 0), Point(3, 3)]\n",
    "\n",
    "D_v = Compute_D_vector(data)\n",
    "\n",
    "x = linspace(data[1].x, data[end].x, 1000)\n",
    "y = Vector(1000)\n",
    "for i = 1 : 1000\n",
    "    y[i] = Compute_cubic_spline(x[i], data, D_v)\n",
    "end\n",
    "\n",
    "plot(x, y, color=\"red\", linewidth=1.0)"
   ]
  },
  {
   "cell_type": "markdown",
   "metadata": {},
   "source": [
    "### Cool. It works properly."
   ]
  },
  {
   "cell_type": "markdown",
   "metadata": {},
   "source": [
    "## Homework 2-2\n",
    "<img src=\"./2-2.png\">"
   ]
  },
  {
   "cell_type": "markdown",
   "metadata": {},
   "source": [
    "#### In our lecture note, based on lagrange polynomial interpolation, three-point formulas is applied.\n",
    "\n",
    "### lagrange ploynomial interpolation\n",
    "<img src=\"./Equation 1.png\">"
   ]
  },
  {
   "cell_type": "code",
   "execution_count": 7,
   "metadata": {
    "collapsed": false
   },
   "outputs": [
    {
     "data": {
      "text/plain": [
       "interpolation (generic function with 1 method)"
      ]
     },
     "execution_count": 7,
     "metadata": {},
     "output_type": "execute_result"
    }
   ],
   "source": [
    "# n-th Lagrange interpolating polynomial\n",
    "function Lagrange(k::Int, x_::Float64, points::Array)\n",
    "    n = length(points)\n",
    "    lag = Float64(1)\n",
    "    for i = 1 : n\n",
    "        if i == k\n",
    "            continue\n",
    "        end\n",
    "        lag *= (x_ - points[i].x)/(points[k].x - points[i].x)\n",
    "    end\n",
    "    \n",
    "    return lag\n",
    "end\n",
    "\n",
    "# lagrange ploynomial interpolation\n",
    "function interpolation(x_::Float64, points::Array)\n",
    "    sum = 0\n",
    "    n = length(points)\n",
    "    \n",
    "    for k = 1 : n\n",
    "        sum += points[k].y*Lagrange(k, x_, points)\n",
    "    end\n",
    "    \n",
    "    return sum\n",
    "end"
   ]
  },
  {
   "cell_type": "code",
   "execution_count": 8,
   "metadata": {
    "collapsed": false
   },
   "outputs": [
    {
     "data": {
      "image/png": "[encoded data removed]",
      "text/plain": [
       "PyPlot.Figure(PyObject <matplotlib.figure.Figure object at 0x7f56a69bdc50>)"
      ]
     },
     "metadata": {},
     "output_type": "display_data"
    },
    {
     "data": {
      "text/plain": [
       "1-element Array{Any,1}:\n",
       " PyObject <matplotlib.lines.Line2D object at 0x7f56a68f30d0>"
      ]
     },
     "execution_count": 8,
     "metadata": {},
     "output_type": "execute_result"
    }
   ],
   "source": [
    "# Problem data\n",
    "data = [Point(0, 0), Point(3, 225), Point(5, 383), Point(8, 623), Point(10, 742), Point(13, 993)]\n",
    "\n",
    "x = linspace(data[1].x, data[end].x, 1000)\n",
    "y = Vector(1000)\n",
    "for i = 1 : 1000\n",
    "    y[i] = interpolation(x[i], data)\n",
    "end\n",
    "\n",
    "plot(x, y, color=\"red\", linewidth=1.0)"
   ]
  },
  {
   "cell_type": "markdown",
   "metadata": {},
   "source": [
    "###  three-point formulas\n",
    "<img src=\"./Equation 2.png\">"
   ]
  },
  {
   "cell_type": "code",
   "execution_count": 9,
   "metadata": {
    "collapsed": false
   },
   "outputs": [
    {
     "data": {
      "text/plain": [
       "three_point_d (generic function with 1 method)"
      ]
     },
     "execution_count": 9,
     "metadata": {},
     "output_type": "execute_result"
    }
   ],
   "source": [
    "function three_point_d(x_::Float64, points::Array)\n",
    "    \n",
    "    small = 1e-7\n",
    "    \n",
    "    # If x_ equals boundary value, three-point fails.\n",
    "    # Instead, forward difference or backward difference can be applied.\n",
    "    if x_ == points[1].x\n",
    "        return (interpolation(x_ + small, points) - interpolation(x_, points))/small\n",
    "    elseif x_ == points[end].x\n",
    "        return (interpolation(x_, points) - interpolation(x_ - small, points))/small\n",
    "    else\n",
    "        return (interpolation(x_ + small, points) - interpolation(x_ - small, points))/(2*small)\n",
    "    end\n",
    "end"
   ]
  },
  {
   "cell_type": "markdown",
   "metadata": {},
   "source": [
    "### The speed of each point is the followings..."
   ]
  },
  {
   "cell_type": "code",
   "execution_count": 10,
   "metadata": {
    "collapsed": false
   },
   "outputs": [
    {
     "name": "stdout",
     "output_type": "stream",
     "text": [
      "f_prime(0.0) = 98.90247065227037\n",
      "f_prime(3.0) = 72.56483570472483\n",
      "f_prime(5.0) = 84.08736306364517\n",
      "f_prime(8.0) = 68.81236231492949\n",
      "f_prime(10.0) = 53.606501637659676\n",
      "f_prime(13.0) = 156.64413353988493\n"
     ]
    }
   ],
   "source": [
    "for i = 1 : length(data)\n",
    "    println(\"f_prime(\", data[i].x, \") = \", three_point_d(data[i].x, data))\n",
    "end"
   ]
  },
  {
   "cell_type": "markdown",
   "metadata": {},
   "source": [
    "## Homework 2-3\n",
    "<img src=\"./2-3.png\">"
   ]
  },
  {
   "cell_type": "markdown",
   "metadata": {},
   "source": [
    "### First, let me inquire a exact solution to god-like Wolfram Alpha.\n",
    "\n",
    "<img src=\"./Wolfram.png\">\n",
    "\n",
    "reference : https://www.wolframalpha.com/input/?i=definite+integral&rawformassumption=%7B%22F%22,+%22DefiniteIntegralCalculator%22,+%22integrand%22%7D+-%3E%22x%5E2*e%5E(-x)%22&rawformassumption=%7B%22F%22,+%22DefiniteIntegralCalculator%22,+%22variable%22%7D+-%3E%22x%22&rawformassumption=%7B%22F%22,+%22DefiniteIntegralCalculator%22,+%22rangestart%22%7D+-%3E%220%22&rawformassumption=%7B%22F%22,+%22DefiniteIntegralCalculator%22,+%22rangeend%22%7D+-%3E%221%22&rawformassumption=%7B%22C%22,+%22definite+integral%22%7D+-%3E+%7B%22Calculator%22%7D"
   ]
  },
  {
   "cell_type": "code",
   "execution_count": 11,
   "metadata": {
    "collapsed": false
   },
   "outputs": [
    {
     "data": {
      "text/plain": [
       "0.16060279414278833"
      ]
     },
     "execution_count": 11,
     "metadata": {},
     "output_type": "execute_result"
    }
   ],
   "source": [
    "exact_solution = 2 - 5*exp(-1)"
   ]
  },
  {
   "cell_type": "code",
   "execution_count": 12,
   "metadata": {
    "collapsed": false
   },
   "outputs": [
    {
     "data": {
      "text/plain": [
       "equation (generic function with 1 method)"
      ]
     },
     "execution_count": 12,
     "metadata": {},
     "output_type": "execute_result"
    }
   ],
   "source": [
    "function equation(x::Float64)\n",
    "    return (x^2) * exp(-x)\n",
    "end"
   ]
  },
  {
   "cell_type": "markdown",
   "metadata": {},
   "source": [
    "### The three followings are each function of Trapezoidal, Simpson, and Gausian quadrature, respectiveley"
   ]
  },
  {
   "cell_type": "code",
   "execution_count": 13,
   "metadata": {
    "collapsed": false
   },
   "outputs": [
    {
     "data": {
      "text/plain": [
       "Gausian (generic function with 1 method)"
      ]
     },
     "execution_count": 13,
     "metadata": {},
     "output_type": "execute_result"
    }
   ],
   "source": [
    "function Trapezoidal(eq::Function, n::Int, interval::Tuple)\n",
    "    h = (interval[2] - interval[1])/n\n",
    "\n",
    "    sum = 0\n",
    "    for i = 0 : (n-1)\n",
    "        first = interval[1] + h*i\n",
    "        last = interval[1] + h*(i+1)\n",
    "        \n",
    "        sum += (h/2)*(eq(first) + eq(last))\n",
    "    end\n",
    "    \n",
    "    return sum\n",
    "end\n",
    "\n",
    "function Simpson(eq::Function, n::Int, interval::Tuple)\n",
    "    h = (interval[2] - interval[1])/n\n",
    "\n",
    "    sum = 0\n",
    "    for i = 0 : (n-2)\n",
    "        if i % 2 != 0\n",
    "            continue\n",
    "        end\n",
    "        first = interval[1] + h*i\n",
    "        mid = interval[1] + h*(i+1)\n",
    "        last = interval[1] + h*(i+2)\n",
    "        \n",
    "        sum += (h/3)*(eq(first) + 4*eq(mid) + eq(last))\n",
    "    end\n",
    "    \n",
    "    return sum\n",
    "end\n",
    "\n",
    "function Gausian(eq::Function, n::Int, interval::Tuple)\n",
    "    # Linear coordinate transformation which makes Interval -> (-1, 1)\n",
    "    function linear_trans(x::Float64, f_x::Function, interval::Tuple)\n",
    "        return f_x(((interval[2]-interval[1])/2)*x + (interval[2]+interval[1])/2)*(interval[2]-interval[1])/2\n",
    "    end\n",
    "    \n",
    "    # For n=2,\n",
    "    #     c_1 = 1, c_2 = 1\n",
    "    #     x_1 = -sqrt(3)/3, x_2 = sqrt(3)/3\n",
    "    if n == 2\n",
    "        return linear_trans(-sqrt(3)/3, eq, interval) + linear_trans(sqrt(3)/3, eq, interval) \n",
    "    end\n",
    "end"
   ]
  },
  {
   "cell_type": "code",
   "execution_count": 14,
   "metadata": {
    "collapsed": false
   },
   "outputs": [
    {
     "name": "stdout",
     "output_type": "stream",
     "text": [
      "The exact solution : 0.16060279414278833\n",
      "\n",
      "Under the condition n = 2...\n",
      "Trapezoidal Method : 0.16778619275693973\n",
      "Simpson Method : 0.1624016834806793\n",
      "Gausian Quardrature : 0.15941043096637894\n"
     ]
    }
   ],
   "source": [
    "println(\"The exact solution : \", exact_solution)\n",
    "println(\"\\nUnder the condition n = 2...\")\n",
    "println(\"Trapezoidal Method : \", Trapezoidal(equation, 2, (0, 1)))\n",
    "println(\"Simpson Method : \", Simpson(equation, 2, (0, 1)))\n",
    "println(\"Gausian Quardrature : \", Gausian(equation, 2, (0, 1)))"
   ]
  },
  {
   "cell_type": "markdown",
   "metadata": {},
   "source": [
    "### Let's compare error of each method."
   ]
  },
  {
   "cell_type": "code",
   "execution_count": 15,
   "metadata": {
    "collapsed": false
   },
   "outputs": [
    {
     "name": "stdout",
     "output_type": "stream",
     "text": [
      "Trapezoidal Method : 0.007183398614151404\n",
      "Simpson Method : 0.0017988893378909632\n",
      "Gausian Quardrature : 0.001192363176409389\n"
     ]
    }
   ],
   "source": [
    "println(\"Trapezoidal Method : \", abs(exact_solution - Trapezoidal(equation, 2, (0, 1))))\n",
    "println(\"Simpson Method : \", abs(exact_solution - Simpson(equation, 2, (0, 1))))\n",
    "println(\"Gausian Quardrature : \", abs(exact_solution - Gausian(equation, 2, (0, 1))))"
   ]
  },
  {
   "cell_type": "markdown",
   "metadata": {},
   "source": [
    "### As known, absolute errors is...\n",
    "\n",
    "### Gausian Quardrature < Simpson Method < Trapezoidal Method"
   ]
  }
 ],
 "metadata": {
  "kernelspec": {
   "display_name": "Julia 0.5.0",
   "language": "julia",
   "name": "julia-0.5"
  },
  "language_info": {
   "file_extension": ".jl",
   "mimetype": "application/julia",
   "name": "julia",
   "version": "0.5.0"
  }
 },
 "nbformat": 4,
 "nbformat_minor": 1
}
