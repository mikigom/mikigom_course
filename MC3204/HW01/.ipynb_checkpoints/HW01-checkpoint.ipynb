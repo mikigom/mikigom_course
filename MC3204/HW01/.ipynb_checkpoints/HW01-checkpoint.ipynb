{
 "cells": [
  {
   "cell_type": "markdown",
   "metadata": {},
   "source": [
    "# Homework 1\n",
    "\n",
    "#### 20145071, Junghoon Seo\n",
    "\n",
    "#### All codes are writen in python2. (And no obstacle in python3.)"
   ]
  },
  {
   "cell_type": "markdown",
   "metadata": {},
   "source": [
    "## Homework 1 - 1\n",
    "\n",
    "<img src=\"1-1.png\">"
   ]
  },
  {
   "cell_type": "code",
   "execution_count": 1,
   "metadata": {
    "collapsed": false,
    "scrolled": true
   },
   "outputs": [
    {
     "name": "stdout",
     "output_type": "stream",
     "text": [
      "('Series : ', [1.0, 0.25, 0.1111111111111111, 0.0625, 0.04, 0.027777777777777776, 0.02040816326530612, 0.015625, 0.012345679012345678, 0.01])\n",
      "('pi and f_chop(pi)', 3.141592653589793, 3.14)\n",
      "('e and f_chop(e)', 2.718281828459045, 2.71)\n"
     ]
    }
   ],
   "source": [
    "from math import pi, e, ceil, floor\n",
    "\n",
    "# f_chop is three_digit chopping operation by significant digits\n",
    "def f_chop(num, places = 3):\n",
    "    rounded = float(format(num, '.'+ str(places) +'g'))\n",
    "    if rounded > num:\n",
    "        old_rounded = rounded\n",
    "        diff = rounded - num\n",
    "        for i in range(0, 10):\n",
    "            rounded = float(format(num, '.'+ str(places) +'g'))\n",
    "            num = num - diff\n",
    "            if rounded == float(format(num, '.'+ str(places) +'g')) and rounded != old_rounded:\n",
    "                return rounded\n",
    "    else:\n",
    "        return rounded\n",
    "    \n",
    "    return float(format(num, '.'+ str(places) +'g'))\n",
    "\n",
    "series = [1./pow(i, 2) for i in range(1, 11)]\n",
    "print(\"Series : \", series)\n",
    "\n",
    "print(\"pi and f_chop(pi)\", pi, f_chop(pi))\n",
    "print(\"e and f_chop(e)\", e, f_chop(e))"
   ]
  },
  {
   "cell_type": "code",
   "execution_count": 2,
   "metadata": {
    "collapsed": false
   },
   "outputs": [
    {
     "name": "stdout",
     "output_type": "stream",
     "text": [
      "(1.0, 1.0)\n",
      "(1.25, 1.25)\n",
      "(1.3611111111111112, 1.36)\n",
      "(1.4225, 1.42)\n",
      "(1.46, 1.46)\n",
      "(1.4877777777777776, 1.48)\n",
      "(1.5004081632653061, 1.5)\n",
      "(1.515625, 1.51)\n",
      "(1.5223456790123457, 1.52)\n",
      "(1.53, 1.53)\n",
      "('forward_sum : ', 1.53)\n"
     ]
    }
   ],
   "source": [
    "# Forward Summation (Increment)\n",
    "forward_sum = 0\n",
    "for i in series:\n",
    "    print(forward_sum + i, f_chop(forward_sum + i))\n",
    "    forward_sum = f_chop(forward_sum + i)\n",
    "\n",
    "print(\"forward_sum : \", forward_sum)"
   ]
  },
  {
   "cell_type": "code",
   "execution_count": 3,
   "metadata": {
    "collapsed": false
   },
   "outputs": [
    {
     "name": "stdout",
     "output_type": "stream",
     "text": [
      "('series : ', [0.01, 0.012345679012345678, 0.015625, 0.02040816326530612, 0.027777777777777776, 0.04, 0.0625, 0.1111111111111111, 0.25, 1.0])\n"
     ]
    }
   ],
   "source": [
    "series.reverse()\n",
    "print(\"series : \", series)"
   ]
  },
  {
   "cell_type": "code",
   "execution_count": 4,
   "metadata": {
    "collapsed": false
   },
   "outputs": [
    {
     "name": "stdout",
     "output_type": "stream",
     "text": [
      "(0.01, 0.01)\n",
      "(0.02234567901234568, 0.0223)\n",
      "(0.037925, 0.0379)\n",
      "(0.05830816326530612, 0.0583)\n",
      "(0.08607777777777778, 0.086)\n",
      "(0.126, 0.126)\n",
      "(0.1885, 0.188)\n",
      "(0.2991111111111111, 0.299)\n",
      "(0.5489999999999999, 0.549)\n",
      "(1.549, 1.54)\n",
      "('backward_sum : ', 1.54)\n"
     ]
    }
   ],
   "source": [
    "# Backward Summation (Decrement)\n",
    "backward_sum = 0\n",
    "for i in series:\n",
    "    print(backward_sum + i, f_chop(backward_sum + i))\n",
    "    backward_sum = f_chop(backward_sum + i)\n",
    "    \n",
    "print(\"backward_sum : \", backward_sum)"
   ]
  },
  {
   "cell_type": "code",
   "execution_count": 5,
   "metadata": {
    "collapsed": false
   },
   "outputs": [
    {
     "name": "stdout",
     "output_type": "stream",
     "text": [
      "1.54976773117\n",
      "Difference with read sum is the following:\n",
      "Summation by decrement : 0.019768, Summation by increment : 0.009768\n"
     ]
    }
   ],
   "source": [
    "# Real Sum and difference by method\n",
    "print(sum(series))\n",
    "\n",
    "print(\"Difference with read sum is the following:\")\n",
    "print(\"Summation by decrement : {:3f}, Summation by increment : {:3f}\".format(sum(series) - forward_sum, sum(series) - backward_sum))"
   ]
  },
  {
   "cell_type": "markdown",
   "metadata": {},
   "source": [
    "The later method has lower difference than the former.\n",
    "\n",
    "In observation, the former starts with fixed beginning position of significant digits, unit of digits.\n",
    "\n",
    "It means, the digits under two decimal point cannot help being cropped.\n",
    "\n",
    "However, the later doesn't. \n",
    "\n",
    "In summation by increment, the beginning position of significant digits can be unber unit of digits."
   ]
  },
  {
   "cell_type": "markdown",
   "metadata": {},
   "source": [
    "## Homework 1 - 2\n",
    "\n",
    "<img src=\"1-2.png\">"
   ]
  },
  {
   "cell_type": "code",
   "execution_count": 6,
   "metadata": {
    "collapsed": true
   },
   "outputs": [],
   "source": [
    "def eq(x):\n",
    "    return x - pow(2, -x)"
   ]
  },
  {
   "cell_type": "code",
   "execution_count": 7,
   "metadata": {
    "collapsed": true
   },
   "outputs": [],
   "source": [
    "def bisect(eq, low, high, tol, N):\n",
    "    FA = eq(low)\n",
    "    for i in xrange(0, N):\n",
    "        p = low + (high - low)/2\n",
    "        FP = eq(p)\n",
    "\n",
    "        if FP == 0 or (high - low) < tol:\n",
    "            return p\n",
    "\n",
    "        if FA * FP > 0:\n",
    "            low = p\n",
    "            FA = FP\n",
    "        else:\n",
    "            high = p\n",
    "\n",
    "    return 'Fail...'"
   ]
  },
  {
   "cell_type": "code",
   "execution_count": 8,
   "metadata": {
    "collapsed": false
   },
   "outputs": [
    {
     "data": {
      "text/plain": [
       "0.6411857604980469"
      ]
     },
     "execution_count": 8,
     "metadata": {},
     "output_type": "execute_result"
    }
   ],
   "source": [
    "bisect(eq = eq, low = 0., high = 1., tol = 1e-5, N = 10000)"
   ]
  },
  {
   "cell_type": "markdown",
   "metadata": {},
   "source": [
    "## Homework 1 - 3\n",
    "\n",
    "<img src=\"1-3.png\">"
   ]
  },
  {
   "cell_type": "code",
   "execution_count": 9,
   "metadata": {
    "collapsed": true
   },
   "outputs": [],
   "source": [
    "# Homework 1 - 3\n",
    "from math import cos, exp\n",
    "\n",
    "def LHS(x):\n",
    "    return exp(x) - 2\n",
    "\n",
    "def RHS(x):\n",
    "    return cos(exp(x) - 2)\n",
    "\n",
    "def eq(x):\n",
    "    return LHS(x) - RHS(x)"
   ]
  },
  {
   "cell_type": "code",
   "execution_count": 10,
   "metadata": {
    "collapsed": false
   },
   "outputs": [
    {
     "data": {
      "image/png": "[encoded data removed]",
      "text/plain": [
       "<matplotlib.figure.Figure at 0x7f75b66a55d0>"
      ]
     },
     "metadata": {},
     "output_type": "display_data"
    }
   ],
   "source": [
    "from pylab import *\n",
    "\n",
    "x_axis = linspace(0., 2., 10000)\n",
    "plot(x_axis, map(LHS, x_axis), label = \"LHS\") \n",
    "plot(x_axis, map(RHS, x_axis), label = \"RHS\")\n",
    "legend()\n",
    "show()"
   ]
  },
  {
   "cell_type": "code",
   "execution_count": 11,
   "metadata": {
    "collapsed": false
   },
   "outputs": [
    {
     "data": {
      "text/plain": [
       "1.0076255798339844"
      ]
     },
     "execution_count": 11,
     "metadata": {},
     "output_type": "execute_result"
    }
   ],
   "source": [
    "bisect(eq = eq, low = 0.5, high = 1.5, tol = 1e-5, N = 10000)"
   ]
  },
  {
   "cell_type": "markdown",
   "metadata": {},
   "source": [
    "## Homework 1 - 4\n",
    "\n",
    "<img src=\"1-4.png\">"
   ]
  },
  {
   "cell_type": "code",
   "execution_count": 12,
   "metadata": {
    "collapsed": true
   },
   "outputs": [],
   "source": [
    "from math import cos, sin\n",
    "\n",
    "def fx(x):\n",
    "    return -pow(x, 3) - cos(x)\n",
    "\n",
    "def fx_prime(x):\n",
    "    return -3*pow(x, 2) + sin(x)"
   ]
  },
  {
   "cell_type": "code",
   "execution_count": 13,
   "metadata": {
    "collapsed": true
   },
   "outputs": [],
   "source": [
    "def newton(eq, eq_prime, init, tol, N):\n",
    "    for i in range(0, N):\n",
    "        p = init - eq(init)/eq_prime(init)\n",
    "        if abs(p - init) < tol:\n",
    "            return p\n",
    "        init = p\n",
    "            \n",
    "    return \"Fail...\""
   ]
  },
  {
   "cell_type": "code",
   "execution_count": 14,
   "metadata": {
    "collapsed": false
   },
   "outputs": [
    {
     "data": {
      "text/plain": [
       "-0.8654740331016162"
      ]
     },
     "execution_count": 14,
     "metadata": {},
     "output_type": "execute_result"
    }
   ],
   "source": [
    "# What's the approximated root by Newton's method?\n",
    "newton(eq = fx, eq_prime = fx_prime, init = -1, tol = 1e-5, N = 10000)"
   ]
  },
  {
   "cell_type": "markdown",
   "metadata": {},
   "source": [
    "Let's take a 'Secant Method' to 'Newton's Method'."
   ]
  },
  {
   "cell_type": "code",
   "execution_count": 15,
   "metadata": {
    "collapsed": true
   },
   "outputs": [],
   "source": [
    "def newton_by_scant(eq, p0, p1, n):\n",
    "    # i = [2, n]\n",
    "    pn_1, pn_2 = p1, p0\n",
    "    for i in range(2, n+1):\n",
    "        pn = pn_1 - eq(pn_1)*(pn_1 - pn_2)/(eq(pn_1) - eq(pn_2))\n",
    "        pn_1, pn_2 = pn, pn_1\n",
    "\n",
    "    return pn"
   ]
  },
  {
   "cell_type": "code",
   "execution_count": 16,
   "metadata": {
    "collapsed": false
   },
   "outputs": [
    {
     "data": {
      "text/plain": [
       "-1.2520764889092288"
      ]
     },
     "execution_count": 16,
     "metadata": {},
     "output_type": "execute_result"
    }
   ],
   "source": [
    "# What's the p3?\n",
    "newton_by_scant(eq = fx, p0 = -1., p1 = 0., n = 3)"
   ]
  }
 ],
 "metadata": {
  "kernelspec": {
   "display_name": "Python 2",
   "language": "python",
   "name": "python2"
  },
  "language_info": {
   "codemirror_mode": {
    "name": "ipython",
    "version": 2
   },
   "file_extension": ".py",
   "mimetype": "text/x-python",
   "name": "python",
   "nbconvert_exporter": "python",
   "pygments_lexer": "ipython2",
   "version": "2.7.6"
  }
 },
 "nbformat": 4,
 "nbformat_minor": 1
}
