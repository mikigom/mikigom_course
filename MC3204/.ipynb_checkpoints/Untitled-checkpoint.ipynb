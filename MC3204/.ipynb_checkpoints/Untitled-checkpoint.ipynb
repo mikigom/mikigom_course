{
 "cells": [
  {
   "cell_type": "markdown",
   "metadata": {},
   "source": [
    "# HW01\n",
    "\n",
    "## 20145071 Junghoon Seo"
   ]
  },
  {
   "cell_type": "markdown",
   "metadata": {},
   "source": [
    "<img src='./Screenshot from 2016-10-20 06:22:08.png'>"
   ]
  },
  {
   "cell_type": "markdown",
   "metadata": {},
   "source": [
    "### Let us see the analytic solution.\n",
    "\n",
    "<img src = './qsTqd9y.jpg'>"
   ]
  },
  {
   "cell_type": "code",
   "execution_count": null,
   "metadata": {
    "collapsed": false
   },
   "outputs": [],
   "source": [
    "from math import exp, sqrt\n",
    "from __future__ import division\n",
    "\n",
    "def x_1(t):\n",
    "    _ = exp((-1/2)*(1+sqrt(69))*t)\n",
    "    __ = ((sqrt(69)-15)*exp(sqrt(69)*t)+sqrt(69))\n",
    "    ___ = 2*sqrt(69)\n",
    "    return _ * __ / ___\n",
    "\n",
    "def x_2(t):\n",
    "    _ = exp((-1/2)*(1+sqrt(69))*t)\n",
    "    __ = ((3*sqrt(69)-19)*exp(sqrt(69)*t)+3*sqrt(69))\n",
    "    ___ = 2*sqrt(69)\n",
    "    return _ * __ / ___"
   ]
  },
  {
   "cell_type": "code",
   "execution_count": null,
   "metadata": {
    "collapsed": false
   },
   "outputs": [],
   "source": [
    "from pylab import *\n",
    "\n",
    "x_axis = linspace(0., 2., 10000)\n",
    "plot(x_axis, map(x_1, x_axis), label = \"x_1\") \n",
    "plot(x_axis, map(x_2, x_axis), label = \"x_2\")\n",
    "legend()\n",
    "show()\n"
   ]
  },
  {
   "cell_type": "code",
   "execution_count": null,
   "metadata": {
    "collapsed": true
   },
   "outputs": [],
   "source": []
  }
 ],
 "metadata": {
  "kernelspec": {
   "display_name": "Python 2",
   "language": "python",
   "name": "python2"
  },
  "language_info": {
   "codemirror_mode": {
    "name": "ipython",
    "version": 2
   },
   "file_extension": ".py",
   "mimetype": "text/x-python",
   "name": "python",
   "nbconvert_exporter": "python",
   "pygments_lexer": "ipython2",
   "version": "2.7.6"
  }
 },
 "nbformat": 4,
 "nbformat_minor": 1
}
